{
 "cells": [
  {
   "cell_type": "code",
   "execution_count": 1,
   "metadata": {},
   "outputs": [],
   "source": [
    "import timeit\n",
    "import importing\n",
    "import stats"
   ]
  },
  {
   "cell_type": "code",
   "execution_count": 2,
   "metadata": {},
   "outputs": [],
   "source": [
    "from pathlib import Path\n",
    "filep = Path('/Users/michaelweinold/github/carculator/carculator/data/default_parameters.json')"
   ]
  },
  {
   "cell_type": "code",
   "execution_count": 9,
   "metadata": {},
   "outputs": [
    {
     "ename": "KeyboardInterrupt",
     "evalue": "",
     "output_type": "error",
     "traceback": [
      "\u001b[0;31m---------------------------------------------------------------------------\u001b[0m",
      "\u001b[0;31mKeyboardInterrupt\u001b[0m                         Traceback (most recent call last)",
      "Cell \u001b[0;32mIn[9], line 5\u001b[0m\n\u001b[1;32m      2\u001b[0m     df \u001b[38;5;241m=\u001b[39m importing\u001b[38;5;241m.\u001b[39mload_data_from_json(filep)\n\u001b[1;32m      3\u001b[0m     stats\u001b[38;5;241m.\u001b[39mgenerate_stochastic_dataframe(df\u001b[38;5;241m=\u001b[39mdf, iterations\u001b[38;5;241m=\u001b[39m\u001b[38;5;241m100000\u001b[39m)\n\u001b[0;32m----> 5\u001b[0m timeout \u001b[38;5;241m=\u001b[39m  \u001b[43mtimeit\u001b[49m\u001b[38;5;241;43m.\u001b[39;49m\u001b[43mtimeit\u001b[49m\u001b[43m(\u001b[49m\u001b[43mecopylot\u001b[49m\u001b[43m)\u001b[49m\n",
      "File \u001b[0;32m/opt/homebrew/Caskroom/miniconda/base/envs/carculator/lib/python3.10/timeit.py:234\u001b[0m, in \u001b[0;36mtimeit\u001b[0;34m(stmt, setup, timer, number, globals)\u001b[0m\n\u001b[1;32m    231\u001b[0m \u001b[38;5;28;01mdef\u001b[39;00m \u001b[38;5;21mtimeit\u001b[39m(stmt\u001b[38;5;241m=\u001b[39m\u001b[38;5;124m\"\u001b[39m\u001b[38;5;124mpass\u001b[39m\u001b[38;5;124m\"\u001b[39m, setup\u001b[38;5;241m=\u001b[39m\u001b[38;5;124m\"\u001b[39m\u001b[38;5;124mpass\u001b[39m\u001b[38;5;124m\"\u001b[39m, timer\u001b[38;5;241m=\u001b[39mdefault_timer,\n\u001b[1;32m    232\u001b[0m            number\u001b[38;5;241m=\u001b[39mdefault_number, \u001b[38;5;28mglobals\u001b[39m\u001b[38;5;241m=\u001b[39m\u001b[38;5;28;01mNone\u001b[39;00m):\n\u001b[1;32m    233\u001b[0m \u001b[38;5;250m    \u001b[39m\u001b[38;5;124;03m\"\"\"Convenience function to create Timer object and call timeit method.\"\"\"\u001b[39;00m\n\u001b[0;32m--> 234\u001b[0m     \u001b[38;5;28;01mreturn\u001b[39;00m \u001b[43mTimer\u001b[49m\u001b[43m(\u001b[49m\u001b[43mstmt\u001b[49m\u001b[43m,\u001b[49m\u001b[43m \u001b[49m\u001b[43msetup\u001b[49m\u001b[43m,\u001b[49m\u001b[43m \u001b[49m\u001b[43mtimer\u001b[49m\u001b[43m,\u001b[49m\u001b[43m \u001b[49m\u001b[38;5;28;43mglobals\u001b[39;49m\u001b[43m)\u001b[49m\u001b[38;5;241;43m.\u001b[39;49m\u001b[43mtimeit\u001b[49m\u001b[43m(\u001b[49m\u001b[43mnumber\u001b[49m\u001b[43m)\u001b[49m\n",
      "File \u001b[0;32m/opt/homebrew/Caskroom/miniconda/base/envs/carculator/lib/python3.10/timeit.py:178\u001b[0m, in \u001b[0;36mTimer.timeit\u001b[0;34m(self, number)\u001b[0m\n\u001b[1;32m    176\u001b[0m gc\u001b[38;5;241m.\u001b[39mdisable()\n\u001b[1;32m    177\u001b[0m \u001b[38;5;28;01mtry\u001b[39;00m:\n\u001b[0;32m--> 178\u001b[0m     timing \u001b[38;5;241m=\u001b[39m \u001b[38;5;28;43mself\u001b[39;49m\u001b[38;5;241;43m.\u001b[39;49m\u001b[43minner\u001b[49m\u001b[43m(\u001b[49m\u001b[43mit\u001b[49m\u001b[43m,\u001b[49m\u001b[43m \u001b[49m\u001b[38;5;28;43mself\u001b[39;49m\u001b[38;5;241;43m.\u001b[39;49m\u001b[43mtimer\u001b[49m\u001b[43m)\u001b[49m\n\u001b[1;32m    179\u001b[0m \u001b[38;5;28;01mfinally\u001b[39;00m:\n\u001b[1;32m    180\u001b[0m     \u001b[38;5;28;01mif\u001b[39;00m gcold:\n",
      "File \u001b[0;32m<timeit-src>:6\u001b[0m, in \u001b[0;36minner\u001b[0;34m(_it, _timer, _stmt)\u001b[0m\n",
      "Cell \u001b[0;32mIn[9], line 3\u001b[0m, in \u001b[0;36mecopylot\u001b[0;34m()\u001b[0m\n\u001b[1;32m      1\u001b[0m \u001b[38;5;28;01mdef\u001b[39;00m \u001b[38;5;21mecopylot\u001b[39m():\n\u001b[1;32m      2\u001b[0m     df \u001b[38;5;241m=\u001b[39m importing\u001b[38;5;241m.\u001b[39mload_data_from_json(filep)\n\u001b[0;32m----> 3\u001b[0m     \u001b[43mstats\u001b[49m\u001b[38;5;241;43m.\u001b[39;49m\u001b[43mgenerate_stochastic_dataframe\u001b[49m\u001b[43m(\u001b[49m\u001b[43mdf\u001b[49m\u001b[38;5;241;43m=\u001b[39;49m\u001b[43mdf\u001b[49m\u001b[43m,\u001b[49m\u001b[43m \u001b[49m\u001b[43miterations\u001b[49m\u001b[38;5;241;43m=\u001b[39;49m\u001b[38;5;241;43m100000\u001b[39;49m\u001b[43m)\u001b[49m\n",
      "File \u001b[0;32m~/github/EcoPyLot/ecopylot/stats.py:169\u001b[0m, in \u001b[0;36mgenerate_stochastic_dataframe\u001b[0;34m(df, iterations)\u001b[0m\n\u001b[1;32m    134\u001b[0m \u001b[38;5;250m\u001b[39m\u001b[38;5;124;03m\"\"\"\u001b[39;00m\n\u001b[1;32m    135\u001b[0m \u001b[38;5;124;03mAdds a stochastic column to the dataframe.\u001b[39;00m\n\u001b[1;32m    136\u001b[0m \n\u001b[0;32m   (...)\u001b[0m\n\u001b[1;32m    165\u001b[0m \n\u001b[1;32m    166\u001b[0m \u001b[38;5;124;03m\"\"\"\u001b[39;00m\n\u001b[1;32m    168\u001b[0m df \u001b[38;5;241m=\u001b[39m _add_distribution_dict_column(df)\n\u001b[0;32m--> 169\u001b[0m df \u001b[38;5;241m=\u001b[39m \u001b[43m_sample_parameters_from_distrivution\u001b[49m\u001b[43m(\u001b[49m\u001b[43mdf\u001b[49m\u001b[43m,\u001b[49m\u001b[43m \u001b[49m\u001b[43miterations\u001b[49m\u001b[43m)\u001b[49m\n\u001b[1;32m    171\u001b[0m \u001b[38;5;28;01mreturn\u001b[39;00m df\n",
      "File \u001b[0;32m~/github/EcoPyLot/ecopylot/stats.py:126\u001b[0m, in \u001b[0;36m_sample_parameters_from_distrivution\u001b[0;34m(df, iterations)\u001b[0m\n\u001b[1;32m    122\u001b[0m parameters: np\u001b[38;5;241m.\u001b[39mndarray \u001b[38;5;241m=\u001b[39m sarrays\u001b[38;5;241m.\u001b[39mUncertaintyBase\u001b[38;5;241m.\u001b[39mfrom_dicts(\u001b[38;5;241m*\u001b[39mlist_of_dicts)\n\u001b[1;32m    124\u001b[0m montecarlogen: sarrays\u001b[38;5;241m.\u001b[39mMCRandomNumberGenerator \u001b[38;5;241m=\u001b[39m sarrays\u001b[38;5;241m.\u001b[39mMCRandomNumberGenerator(parameters)\n\u001b[0;32m--> 126\u001b[0m parameters_stochastic: np\u001b[38;5;241m.\u001b[39mndarray \u001b[38;5;241m=\u001b[39m \u001b[43mmontecarlogen\u001b[49m\u001b[38;5;241;43m.\u001b[39;49m\u001b[43mgenerate\u001b[49m\u001b[43m(\u001b[49m\u001b[43miterations\u001b[49m\u001b[43m)\u001b[49m\n\u001b[1;32m    128\u001b[0m df[\u001b[38;5;124m'\u001b[39m\u001b[38;5;124mparameter_value_stochastic\u001b[39m\u001b[38;5;124m'\u001b[39m] \u001b[38;5;241m=\u001b[39m  \u001b[38;5;28mlist\u001b[39m(parameters_stochastic)\n\u001b[1;32m    130\u001b[0m \u001b[38;5;28;01mreturn\u001b[39;00m df\n",
      "File \u001b[0;32m/opt/homebrew/Caskroom/miniconda/base/envs/carculator/lib/python3.10/site-packages/stats_arrays/random.py:185\u001b[0m, in \u001b[0;36mMCRandomNumberGenerator.generate\u001b[0;34m(self, samples)\u001b[0m\n\u001b[1;32m    183\u001b[0m \u001b[38;5;28;01mif\u001b[39;00m \u001b[38;5;129;01mnot\u001b[39;00m numparams:\n\u001b[1;32m    184\u001b[0m     \u001b[38;5;28;01mcontinue\u001b[39;00m\n\u001b[0;32m--> 185\u001b[0m random_data \u001b[38;5;241m=\u001b[39m \u001b[43muncertainty_type\u001b[49m\u001b[38;5;241;43m.\u001b[39;49m\u001b[43mbounded_random_variables\u001b[49m\u001b[43m(\u001b[49m\n\u001b[1;32m    186\u001b[0m \u001b[43m    \u001b[49m\u001b[38;5;28;43mself\u001b[39;49m\u001b[38;5;241;43m.\u001b[39;49m\u001b[43mparams\u001b[49m\u001b[43m[\u001b[49m\u001b[43moffset\u001b[49m\u001b[43m:\u001b[49m\u001b[43mnumparams\u001b[49m\u001b[43m \u001b[49m\u001b[38;5;241;43m+\u001b[39;49m\u001b[43m \u001b[49m\u001b[43moffset\u001b[49m\u001b[43m]\u001b[49m\u001b[43m,\u001b[49m\n\u001b[1;32m    187\u001b[0m \u001b[43m    \u001b[49m\u001b[43msamples\u001b[49m\u001b[43m,\u001b[49m\n\u001b[1;32m    188\u001b[0m \u001b[43m    \u001b[49m\u001b[38;5;28;43mself\u001b[39;49m\u001b[38;5;241;43m.\u001b[39;49m\u001b[43mrandom\u001b[49m\u001b[43m,\u001b[49m\n\u001b[1;32m    189\u001b[0m \u001b[43m    \u001b[49m\u001b[38;5;28;43mself\u001b[39;49m\u001b[38;5;241;43m.\u001b[39;49m\u001b[43mmaximum_iterations\u001b[49m\n\u001b[1;32m    190\u001b[0m \u001b[43m\u001b[49m\u001b[43m)\u001b[49m\n\u001b[1;32m    191\u001b[0m \u001b[38;5;28;01mif\u001b[39;00m samples \u001b[38;5;241m==\u001b[39m \u001b[38;5;241m1\u001b[39m:\n\u001b[1;32m    192\u001b[0m     \u001b[38;5;28;01mif\u001b[39;00m \u001b[38;5;28mlen\u001b[39m(random_data\u001b[38;5;241m.\u001b[39mshape) \u001b[38;5;241m==\u001b[39m \u001b[38;5;241m2\u001b[39m:\n",
      "File \u001b[0;32m/opt/homebrew/Caskroom/miniconda/base/envs/carculator/lib/python3.10/site-packages/stats_arrays/distributions/base.py:197\u001b[0m, in \u001b[0;36mUncertaintyBase.bounded_random_variables\u001b[0;34m(cls, params, size, seeded_random, maximum_iterations)\u001b[0m\n\u001b[1;32m    195\u001b[0m bounds_mask \u001b[38;5;241m=\u001b[39m (data \u001b[38;5;241m<\u001b[39m min_array) \u001b[38;5;241m+\u001b[39m (data \u001b[38;5;241m>\u001b[39m max_array)\n\u001b[1;32m    196\u001b[0m counter \u001b[38;5;241m=\u001b[39m \u001b[38;5;241m0\u001b[39m\n\u001b[0;32m--> 197\u001b[0m \u001b[38;5;28;01mwhile\u001b[39;00m \u001b[43mbounds_mask\u001b[49m\u001b[38;5;241;43m.\u001b[39;49m\u001b[43msum\u001b[49m\u001b[43m(\u001b[49m\u001b[43m)\u001b[49m \u001b[38;5;241m>\u001b[39m \u001b[38;5;241m0\u001b[39m:\n\u001b[1;32m    198\u001b[0m     \u001b[38;5;66;03m# This isn't the most efficient, but random number generation\u001b[39;00m\n\u001b[1;32m    199\u001b[0m     \u001b[38;5;66;03m# is fast, so pass the whole params. The problem is that data is\u001b[39;00m\n\u001b[1;32m    200\u001b[0m     \u001b[38;5;66;03m# a large multi-dimensional array, and there is no easy way to pick\u001b[39;00m\n\u001b[1;32m    201\u001b[0m     \u001b[38;5;66;03m# the values that should be regenerated. Testing shows that this\u001b[39;00m\n\u001b[1;32m    202\u001b[0m     \u001b[38;5;66;03m# approach increases execution speed linearly as a function of the\u001b[39;00m\n\u001b[1;32m    203\u001b[0m     \u001b[38;5;66;03m# most restrictive bounds, as all the other bounds are satisfied\u001b[39;00m\n\u001b[1;32m    204\u001b[0m     \u001b[38;5;66;03m# during iteration for the worst-case scenario. As this approach is\u001b[39;00m\n\u001b[1;32m    205\u001b[0m     \u001b[38;5;66;03m# O(n), and the time for random number generation is << time for\u001b[39;00m\n\u001b[1;32m    206\u001b[0m     \u001b[38;5;66;03m# solving the linear system, we don't try to find a clever way\u001b[39;00m\n\u001b[1;32m    207\u001b[0m     \u001b[38;5;66;03m# around this inefficiency. See stats/tests/uncertainty.py -\u001b[39;00m\n\u001b[1;32m    208\u001b[0m     \u001b[38;5;66;03m# UncertaintyTestCase - test_random_timing for a timing test.\u001b[39;00m\n\u001b[1;32m    209\u001b[0m     data[bounds_mask] \u001b[38;5;241m=\u001b[39m \u001b[38;5;28mcls\u001b[39m\u001b[38;5;241m.\u001b[39mrandom_variables(params,\n\u001b[1;32m    210\u001b[0m                                              size, seeded_random)[bounds_mask]\n\u001b[1;32m    211\u001b[0m     bounds_mask \u001b[38;5;241m=\u001b[39m (data \u001b[38;5;241m<\u001b[39m min_array) \u001b[38;5;241m+\u001b[39m (data \u001b[38;5;241m>\u001b[39m max_array)\n",
      "File \u001b[0;32m/opt/homebrew/Caskroom/miniconda/base/envs/carculator/lib/python3.10/site-packages/numpy/core/_methods.py:46\u001b[0m, in \u001b[0;36m_sum\u001b[0;34m(a, axis, dtype, out, keepdims, initial, where)\u001b[0m\n\u001b[1;32m     42\u001b[0m \u001b[38;5;28;01mdef\u001b[39;00m \u001b[38;5;21m_amin\u001b[39m(a, axis\u001b[38;5;241m=\u001b[39m\u001b[38;5;28;01mNone\u001b[39;00m, out\u001b[38;5;241m=\u001b[39m\u001b[38;5;28;01mNone\u001b[39;00m, keepdims\u001b[38;5;241m=\u001b[39m\u001b[38;5;28;01mFalse\u001b[39;00m,\n\u001b[1;32m     43\u001b[0m           initial\u001b[38;5;241m=\u001b[39m_NoValue, where\u001b[38;5;241m=\u001b[39m\u001b[38;5;28;01mTrue\u001b[39;00m):\n\u001b[1;32m     44\u001b[0m     \u001b[38;5;28;01mreturn\u001b[39;00m umr_minimum(a, axis, \u001b[38;5;28;01mNone\u001b[39;00m, out, keepdims, initial, where)\n\u001b[0;32m---> 46\u001b[0m \u001b[38;5;28;01mdef\u001b[39;00m \u001b[38;5;21m_sum\u001b[39m(a, axis\u001b[38;5;241m=\u001b[39m\u001b[38;5;28;01mNone\u001b[39;00m, dtype\u001b[38;5;241m=\u001b[39m\u001b[38;5;28;01mNone\u001b[39;00m, out\u001b[38;5;241m=\u001b[39m\u001b[38;5;28;01mNone\u001b[39;00m, keepdims\u001b[38;5;241m=\u001b[39m\u001b[38;5;28;01mFalse\u001b[39;00m,\n\u001b[1;32m     47\u001b[0m          initial\u001b[38;5;241m=\u001b[39m_NoValue, where\u001b[38;5;241m=\u001b[39m\u001b[38;5;28;01mTrue\u001b[39;00m):\n\u001b[1;32m     48\u001b[0m     \u001b[38;5;28;01mreturn\u001b[39;00m umr_sum(a, axis, dtype, out, keepdims, initial, where)\n\u001b[1;32m     50\u001b[0m \u001b[38;5;28;01mdef\u001b[39;00m \u001b[38;5;21m_prod\u001b[39m(a, axis\u001b[38;5;241m=\u001b[39m\u001b[38;5;28;01mNone\u001b[39;00m, dtype\u001b[38;5;241m=\u001b[39m\u001b[38;5;28;01mNone\u001b[39;00m, out\u001b[38;5;241m=\u001b[39m\u001b[38;5;28;01mNone\u001b[39;00m, keepdims\u001b[38;5;241m=\u001b[39m\u001b[38;5;28;01mFalse\u001b[39;00m,\n\u001b[1;32m     51\u001b[0m           initial\u001b[38;5;241m=\u001b[39m_NoValue, where\u001b[38;5;241m=\u001b[39m\u001b[38;5;28;01mTrue\u001b[39;00m):\n",
      "\u001b[0;31mKeyboardInterrupt\u001b[0m: "
     ]
    }
   ],
   "source": [
    "def ecopylot():\n",
    "    df = importing.load_data_from_json(filep)\n",
    "    stats.generate_stochastic_dataframe(df=df, iterations=100000)\n",
    "\n",
    "timeout =  timeit.timeit(ecopylot)"
   ]
  },
  {
   "cell_type": "code",
   "execution_count": null,
   "metadata": {},
   "outputs": [],
   "source": [
    "list_iterations: list = [\n",
    "    1E2,\n",
    "    1E3,\n",
    "    1E4,\n",
    "    1E5,\n",
    "    1E6,\n",
    "]\n"
   ]
  },
  {
   "cell_type": "code",
   "execution_count": null,
   "metadata": {},
   "outputs": [],
   "source": [
    "cip = CarInputParameters()\n",
    "cip.stochastic(iterations=1000)"
   ]
  }
 ],
 "metadata": {
  "kernelspec": {
   "display_name": "carculator",
   "language": "python",
   "name": "python3"
  },
  "language_info": {
   "codemirror_mode": {
    "name": "ipython",
    "version": 3
   },
   "file_extension": ".py",
   "mimetype": "text/x-python",
   "name": "python",
   "nbconvert_exporter": "python",
   "pygments_lexer": "ipython3",
   "version": "3.10.13"
  }
 },
 "nbformat": 4,
 "nbformat_minor": 2
}
